{
 "cells": [
  {
   "cell_type": "code",
   "execution_count": 1,
   "id": "865de659-aad3-4fe8-8da2-455867d9e462",
   "metadata": {},
   "outputs": [],
   "source": [
    "from langchain_groq import ChatGroq"
   ]
  },
  {
   "cell_type": "code",
   "execution_count": 7,
   "id": "83c792df-5c2a-4f26-a412-1a609161ece3",
   "metadata": {},
   "outputs": [
    {
     "name": "stdout",
     "output_type": "stream",
     "text": [
      "The first person to land on the moon was Neil Armstrong. He stepped onto the lunar surface on July 20, 1969, as part of the Apollo 11 mission.\n"
     ]
    }
   ],
   "source": [
    "llm = ChatGroq(\n",
    "    temperature=0, \n",
    "    groq_api_key='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', \n",
    "    model_name=\"llama-3.1-70b-versatile\"\n",
    ")\n",
    "response = llm.invoke(\"The first person to land on moon was ...\")\n",
    "print(response.content)"
   ]
  },
  {
   "cell_type": "code",
   "execution_count": 9,
   "id": "89b7a626-72d1-4a7f-96a6-35d6c4df8170",
   "metadata": {},
   "outputs": [
    {
     "name": "stderr",
     "output_type": "stream",
     "text": [
      "USER_AGENT environment variable not set, consider setting it to identify your requests.\n"
     ]
    },
    {
     "name": "stdout",
     "output_type": "stream",
     "text": [
      "Apply for Senior Manager, Applied Analytics\n",
      "\n",
      "Search JobsSkip navigationSearch JobsNIKE, INC. JOBSContract JobsJoin The Talent CommunityLife @ NikeOverviewBenefitsBrandsOverviewJordanConverseTeamsOverviewAdministrative SupportAdvanced InnovationAir Manufacturing InnovationAviationCommunicationsCustomer ServiceDesignDigitalFacilitiesFinance & AccountingGovernment & Public AffairsHuman ResourcesInsights & AnalyticsLegalManufacturing & EngineeringMarketingMerchandisingPlanningPrivacyProcurementProduct Creation, Development & ManagementRetail CorporateRetail StoresSalesSocial & Community ImpactSports MarketingStrategic PlanningSupply Chain, Distribution & LogisticsSustainabilityTechnologyLocationsOverviewNike WHQNike New York HQEHQ: Hilversum, The NetherlandsELC: Laakdal, BelgiumGreater China HQDiversity, Equity & InclusionOverviewMilitary InclusionDisability InclusionIndigenous InclusionInternshipsData & AnalyticsSenior Manager, Applied AnalyticsShanghai, China MainlandBecome a Part of the NIKE, Inc. Team\n",
      "NIKE, Inc. does more than outfit the world’s best athletes. It is a place to explore potential, obliterate boundaries and push out the edges of what can be. The company looks for people who can grow, think, dream and create. Its culture thrives by embracing diversity and rewarding imagination. The brand seeks achievers, leaders and visionaries. At NIKE, Inc. it’s about each person bringing skills and passion to a challenging and constantly evolving game.Role & Responsibility-          Define & develop data-driven methodology and solutions to:o   sort out business and data processo   identify key business factors and requirementso   generate business insights & resolve problems-          Collaborate with business stakeholders and cross-functional teams (e.g. demand and supply management, supply chain, merchandising, marketplace operations). Build trust partnerships to discuss, develop and evolve business layouts and impacts with stakeholders through meaningful insights and data. Support stakeholders to make critical business decisions-          Track & identify potential opportunities & risks in multiple daily business scenarios, create sufficient validation points for strategic options through scientific approach-          Form a new team squad to work together and grow together. Be responsible for team dynamics and talent career development. Qualification-          6-8 years’ extensive experience in data science with at least 2 years in Consulting/Consumer goods industry background would be a plus.-          With interest in business operation and recap analysis, and strong capabilities to resolve business questions & requirements with analytics skills and numeric acumen-          impeccable business judgment, along with a natural inclination to formulate hypotheses, design pilots, and use problem-solving techniques to evaluate solutions. -          Strengths in cross-functional collaboration with demonstrated expertise in driving complex projects with multiple stakeholders. Ability to facilitate ideation, scoping and planning sessions. -          Strong sense of ownership and action orientated. Ability to quickly understand the context, frame the problem and move to planning & execution, even in the face of ambiguity or uncertainty.-          Passion for sports and sports industryNIKE, Inc. is a growth company that looks for team members to grow with it. Nike offers a generous total rewards package, casual work environment, a diverse and inclusive culture, and an electric atmosphere for professional development. No matter the location, or the role, every Nike employee shares one galvanizing mission: To bring inspiration and innovation to every athlete* in the world.NIKE, Inc. is committed to employing a diverse workforce. Qualified applicants will receive consideration without regard to race, color, religion, sex, national origin, age, sexual orientation, gender identity, gender expression, veteran status, or disability.How We HireAt NIKE, Inc. we promise to provide a premium, inclusive, compelling and authentic candidate experience. Delivering on this promise means we allow you to be at your best — and to do that, you need to understand how the hiring process works. Transparency is key.\n",
      "\n",
      "* This overview explains our hiring process for corporate roles. Note there may be different hiring steps involved for non-corporate roles.Start nowBenefitsWhether it’s transportation or financial health, we continually invest in our employees to help them achieve greatness — inside and outside of work. All who work here should be able to realize their full potential.Employee Assistance ProgramHolidaysMedical PlanPaid Time Off (PTO)Product DiscountsLearn moreFIND A STOREBECOME A MEMBERSIGN UP FOR EMAILSEND US FEEDBACKSTUDENT DISCOUNTSGET HELPGET HELPOrder StatusDeliveryReturnsPayment OptionsContact Us On Nike.com InquiriesContact Us On All Other InquiriesABOUT NIKEABOUT NIKENewsCareersInvestorsSustainabilityIndia© 2024 Nike, Inc. All Rights ReservedGuidesNike AdaptNike Air MaxNike FlyleatherNike PegasusNike Zoom FlyNike AirNike FlyEaseNike FreeNike ReactNike ZoomXNike Air Force 1Nike FlyknitNike JoyrideNike VaporflyTerms of SaleTerms of UseNike Privacy Policy\n"
     ]
    }
   ],
   "source": [
    "from langchain_community.document_loaders import WebBaseLoader\n",
    "\n",
    "loader = WebBaseLoader(\"https://jobs.nike.com/job/R-45214?from=job%20search%20funnel\")\n",
    "page_data = loader.load().pop().page_content\n",
    "print(page_data)"
   ]
  },
  {
   "cell_type": "code",
   "execution_count": 11,
   "id": "8a5ecc75-cdc5-48dc-9f98-24d99f0185e0",
   "metadata": {},
   "outputs": [
    {
     "data": {
      "text/plain": [
       "str"
      ]
     },
     "execution_count": 11,
     "metadata": {},
     "output_type": "execute_result"
    }
   ],
   "source": [
    "from langchain_core.prompts import PromptTemplate\n",
    "\n",
    "prompt_extract = PromptTemplate.from_template(\n",
    "        \"\"\"\n",
    "        ### SCRAPED TEXT FROM WEBSITE:\n",
    "        {page_data}\n",
    "        ### INSTRUCTION:\n",
    "        The scraped text is from the career's page of a website.\n",
    "        Your job is to extract the job postings and return them in JSON format containing the \n",
    "        following keys: `role`, `experience`, `skills` and `description`.\n",
    "        Only return the valid JSON.\n",
    "        ### VALID JSON (NO PREAMBLE):    \n",
    "        \"\"\"\n",
    ")\n",
    "\n",
    "chain_extract = prompt_extract | llm \n",
    "res = chain_extract.invoke(input={'page_data':page_data})\n",
    "type(res.content)"
   ]
  },
  {
   "cell_type": "code",
   "execution_count": 13,
   "id": "d017e6fa-9a4c-4200-aae7-195362893784",
   "metadata": {},
   "outputs": [
    {
     "data": {
      "text/plain": [
       "{'role': 'Senior Manager, Applied Analytics',\n",
       " 'experience': '6-8 years',\n",
       " 'skills': ['Data science',\n",
       "  'Business operation',\n",
       "  'Recap analysis',\n",
       "  'Analytics skills',\n",
       "  'Numeric acumen',\n",
       "  'Cross-functional collaboration',\n",
       "  'Problem-solving',\n",
       "  'Project management',\n",
       "  'Leadership'],\n",
       " 'description': 'Define & develop data-driven methodology and solutions to sort out business and data process, identify key business factors and requirements, and generate business insights & resolve problems. Collaborate with business stakeholders and cross-functional teams to build trust partnerships and support stakeholders to make critical business decisions. Track & identify potential opportunities & risks in multiple daily business scenarios, create sufficient validation points for strategic options through scientific approach. Form a new team squad to work together and grow together, and be responsible for team dynamics and talent career development.'}"
      ]
     },
     "execution_count": 13,
     "metadata": {},
     "output_type": "execute_result"
    }
   ],
   "source": [
    "from langchain_core.output_parsers import JsonOutputParser\n",
    "\n",
    "json_parser = JsonOutputParser()\n",
    "json_res = json_parser.parse(res.content)\n",
    "json_res"
   ]
  },
  {
   "cell_type": "code",
   "execution_count": 15,
   "id": "1d86914e-db5a-494f-9548-c19d6f4437f8",
   "metadata": {},
   "outputs": [
    {
     "data": {
      "text/plain": [
       "dict"
      ]
     },
     "execution_count": 15,
     "metadata": {},
     "output_type": "execute_result"
    }
   ],
   "source": [
    "type(json_res)\n"
   ]
  },
  {
   "cell_type": "code",
   "execution_count": 19,
   "id": "1ac43c36-bb04-4947-a32e-aafe441d7b69",
   "metadata": {},
   "outputs": [
    {
     "data": {
      "text/html": [
       "<div>\n",
       "<style scoped>\n",
       "    .dataframe tbody tr th:only-of-type {\n",
       "        vertical-align: middle;\n",
       "    }\n",
       "\n",
       "    .dataframe tbody tr th {\n",
       "        vertical-align: top;\n",
       "    }\n",
       "\n",
       "    .dataframe thead th {\n",
       "        text-align: right;\n",
       "    }\n",
       "</style>\n",
       "<table border=\"1\" class=\"dataframe\">\n",
       "  <thead>\n",
       "    <tr style=\"text-align: right;\">\n",
       "      <th></th>\n",
       "      <th>Techstack</th>\n",
       "      <th>Links</th>\n",
       "    </tr>\n",
       "  </thead>\n",
       "  <tbody>\n",
       "    <tr>\n",
       "      <th>0</th>\n",
       "      <td>React, Node.js, MongoDB</td>\n",
       "      <td>https://mfaiz01.github.io/MyPortfolio/</td>\n",
       "    </tr>\n",
       "    <tr>\n",
       "      <th>1</th>\n",
       "      <td>Angular,.NET, SQL Server</td>\n",
       "      <td>https://mfaiz01.github.io/MyPortfolio/</td>\n",
       "    </tr>\n",
       "    <tr>\n",
       "      <th>2</th>\n",
       "      <td>Vue.js, Ruby on Rails, PostgreSQL</td>\n",
       "      <td>https://mfaiz01.github.io/MyPortfolio/</td>\n",
       "    </tr>\n",
       "    <tr>\n",
       "      <th>3</th>\n",
       "      <td>Python, Django, MySQL</td>\n",
       "      <td>https://mfaiz01.github.io/MyPortfolio/</td>\n",
       "    </tr>\n",
       "    <tr>\n",
       "      <th>4</th>\n",
       "      <td>Java, Spring Boot, Oracle</td>\n",
       "      <td>https://mfaiz01.github.io/MyPortfolio/</td>\n",
       "    </tr>\n",
       "    <tr>\n",
       "      <th>5</th>\n",
       "      <td>Flutter, Firebase, GraphQL</td>\n",
       "      <td>https://mfaiz01.github.io/MyPortfolio/</td>\n",
       "    </tr>\n",
       "    <tr>\n",
       "      <th>6</th>\n",
       "      <td>WordPress, PHP, MySQL</td>\n",
       "      <td>https://mfaiz01.github.io/MyPortfolio/</td>\n",
       "    </tr>\n",
       "    <tr>\n",
       "      <th>7</th>\n",
       "      <td>Magento, PHP, MySQL</td>\n",
       "      <td>https://mfaiz01.github.io/MyPortfolio/</td>\n",
       "    </tr>\n",
       "    <tr>\n",
       "      <th>8</th>\n",
       "      <td>React Native, Node.js, MongoDB</td>\n",
       "      <td>https://mfaiz01.github.io/MyPortfolio/</td>\n",
       "    </tr>\n",
       "    <tr>\n",
       "      <th>9</th>\n",
       "      <td>iOS, Swift, Core Data</td>\n",
       "      <td>https://mfaiz01.github.io/MyPortfolio/</td>\n",
       "    </tr>\n",
       "    <tr>\n",
       "      <th>10</th>\n",
       "      <td>Android, Java, Room Persistence</td>\n",
       "      <td>https://mfaiz01.github.io/MyPortfolio/</td>\n",
       "    </tr>\n",
       "    <tr>\n",
       "      <th>11</th>\n",
       "      <td>Kotlin, Android, Firebase</td>\n",
       "      <td>https://mfaiz01.github.io/MyPortfolio/</td>\n",
       "    </tr>\n",
       "    <tr>\n",
       "      <th>12</th>\n",
       "      <td>Android TV, Kotlin, Android NDK</td>\n",
       "      <td>https://mfaiz01.github.io/MyPortfolio/</td>\n",
       "    </tr>\n",
       "    <tr>\n",
       "      <th>13</th>\n",
       "      <td>iOS, Swift, ARKit</td>\n",
       "      <td>https://mfaiz01.github.io/MyPortfolio/</td>\n",
       "    </tr>\n",
       "    <tr>\n",
       "      <th>14</th>\n",
       "      <td>Cross-platform, Xamarin, Azure</td>\n",
       "      <td>https://mfaiz01.github.io/MyPortfolio/</td>\n",
       "    </tr>\n",
       "    <tr>\n",
       "      <th>15</th>\n",
       "      <td>Backend, Kotlin, Spring Boot</td>\n",
       "      <td>https://mfaiz01.github.io/MyPortfolio/</td>\n",
       "    </tr>\n",
       "    <tr>\n",
       "      <th>16</th>\n",
       "      <td>Frontend, TypeScript, Angular</td>\n",
       "      <td>https://mfaiz01.github.io/MyPortfolio/</td>\n",
       "    </tr>\n",
       "    <tr>\n",
       "      <th>17</th>\n",
       "      <td>Full-stack, JavaScript, Express.js</td>\n",
       "      <td>https://mfaiz01.github.io/MyPortfolio/</td>\n",
       "    </tr>\n",
       "    <tr>\n",
       "      <th>18</th>\n",
       "      <td>Machine Learning, Python, TensorFlow</td>\n",
       "      <td>https://mfaiz01.github.io/MyPortfolio/</td>\n",
       "    </tr>\n",
       "    <tr>\n",
       "      <th>19</th>\n",
       "      <td>DevOps, Jenkins, Docker</td>\n",
       "      <td>https://mfaiz01.github.io/MyPortfolio/</td>\n",
       "    </tr>\n",
       "  </tbody>\n",
       "</table>\n",
       "</div>"
      ],
      "text/plain": [
       "                               Techstack  \\\n",
       "0                React, Node.js, MongoDB   \n",
       "1               Angular,.NET, SQL Server   \n",
       "2      Vue.js, Ruby on Rails, PostgreSQL   \n",
       "3                  Python, Django, MySQL   \n",
       "4              Java, Spring Boot, Oracle   \n",
       "5             Flutter, Firebase, GraphQL   \n",
       "6                  WordPress, PHP, MySQL   \n",
       "7                    Magento, PHP, MySQL   \n",
       "8         React Native, Node.js, MongoDB   \n",
       "9                  iOS, Swift, Core Data   \n",
       "10       Android, Java, Room Persistence   \n",
       "11             Kotlin, Android, Firebase   \n",
       "12       Android TV, Kotlin, Android NDK   \n",
       "13                     iOS, Swift, ARKit   \n",
       "14        Cross-platform, Xamarin, Azure   \n",
       "15          Backend, Kotlin, Spring Boot   \n",
       "16         Frontend, TypeScript, Angular   \n",
       "17    Full-stack, JavaScript, Express.js   \n",
       "18  Machine Learning, Python, TensorFlow   \n",
       "19               DevOps, Jenkins, Docker   \n",
       "\n",
       "                                     Links  \n",
       "0   https://mfaiz01.github.io/MyPortfolio/  \n",
       "1   https://mfaiz01.github.io/MyPortfolio/  \n",
       "2   https://mfaiz01.github.io/MyPortfolio/  \n",
       "3   https://mfaiz01.github.io/MyPortfolio/  \n",
       "4   https://mfaiz01.github.io/MyPortfolio/  \n",
       "5   https://mfaiz01.github.io/MyPortfolio/  \n",
       "6   https://mfaiz01.github.io/MyPortfolio/  \n",
       "7   https://mfaiz01.github.io/MyPortfolio/  \n",
       "8   https://mfaiz01.github.io/MyPortfolio/  \n",
       "9   https://mfaiz01.github.io/MyPortfolio/  \n",
       "10  https://mfaiz01.github.io/MyPortfolio/  \n",
       "11  https://mfaiz01.github.io/MyPortfolio/  \n",
       "12  https://mfaiz01.github.io/MyPortfolio/  \n",
       "13  https://mfaiz01.github.io/MyPortfolio/  \n",
       "14  https://mfaiz01.github.io/MyPortfolio/  \n",
       "15  https://mfaiz01.github.io/MyPortfolio/  \n",
       "16  https://mfaiz01.github.io/MyPortfolio/  \n",
       "17  https://mfaiz01.github.io/MyPortfolio/  \n",
       "18  https://mfaiz01.github.io/MyPortfolio/  \n",
       "19  https://mfaiz01.github.io/MyPortfolio/  "
      ]
     },
     "execution_count": 19,
     "metadata": {},
     "output_type": "execute_result"
    }
   ],
   "source": [
    "import pandas as pd\n",
    "\n",
    "df = pd.read_csv(\"my_portfolio.csv\")\n",
    "df"
   ]
  },
  {
   "cell_type": "code",
   "execution_count": 24,
   "id": "c21a0fa9-ea1d-40ae-bcda-b192b2115116",
   "metadata": {},
   "outputs": [],
   "source": [
    "import uuid\n",
    "import chromadb\n",
    "\n",
    "client = chromadb.PersistentClient('vectorstore')\n",
    "collection = client.get_or_create_collection(name=\"portfolio\")\n",
    "\n",
    "if not collection.count():\n",
    "    for _, row in df.iterrows():\n",
    "        collection.add(documents=row[\"Techstack\"],\n",
    "                       metadatas={\"links\": row[\"Links\"]},\n",
    "                       ids=[str(uuid.uuid4())])"
   ]
  },
  {
   "cell_type": "code",
   "execution_count": 32,
   "id": "d25a85e2-1a04-4af9-9a5a-43674dc3973f",
   "metadata": {},
   "outputs": [
    {
     "data": {
      "text/plain": [
       "[[{'links': 'https://mfaiz01.github.io/MyPortfolio/'},\n",
       "  {'links': 'https://mfaiz01.github.io/MyPortfolio/'}],\n",
       " [{'links': 'https://mfaiz01.github.io/MyPortfolio/'},\n",
       "  {'links': 'https://mfaiz01.github.io/MyPortfolio/'}]]"
      ]
     },
     "execution_count": 32,
     "metadata": {},
     "output_type": "execute_result"
    }
   ],
   "source": [
    "links = collection.query(query_texts=['Expereience in Python','Expertise in React'], n_results=2).get('metadatas', [])\n",
    "links"
   ]
  },
  {
   "cell_type": "code",
   "execution_count": 34,
   "id": "883789c7-4a2d-4ba1-9f0f-0d07aea1fc14",
   "metadata": {},
   "outputs": [
    {
     "data": {
      "text/plain": [
       "['Data science',\n",
       " 'Business operation',\n",
       " 'Recap analysis',\n",
       " 'Analytics skills',\n",
       " 'Numeric acumen',\n",
       " 'Cross-functional collaboration',\n",
       " 'Problem-solving',\n",
       " 'Project management',\n",
       " 'Leadership']"
      ]
     },
     "execution_count": 34,
     "metadata": {},
     "output_type": "execute_result"
    }
   ],
   "source": [
    "job = json_res\n",
    "job['skills']"
   ]
  },
  {
   "cell_type": "code",
   "execution_count": 36,
   "id": "7384dd8d-fef7-4d6f-86e9-0b80401c0987",
   "metadata": {},
   "outputs": [
    {
     "name": "stdout",
     "output_type": "stream",
     "text": [
      "Subject: Unlock Data-Driven Insights with AtliQ's Expertise\n",
      "\n",
      "Dear Hiring Manager,\n",
      "\n",
      "I came across the Senior Manager, Applied Analytics role at your esteemed organization and was impressed by the emphasis on leveraging data science to drive business growth. As a Business Development Executive at AtliQ, I'd like to introduce our company's capabilities in empowering businesses like yours to harness the power of data-driven decision-making.\n",
      "\n",
      "AtliQ is an AI & Software Consulting company dedicated to facilitating seamless integration of business processes through automated tools. Our team of experts has a proven track record of delivering tailored solutions that foster scalability, process optimization, cost reduction, and heightened overall efficiency.\n",
      "\n",
      "Our expertise in data science, business operations, and analytics skills aligns perfectly with the requirements of the Senior Manager, Applied Analytics role. We've helped numerous enterprises unlock business insights, identify key factors, and generate data-driven solutions to complex problems.\n",
      "\n",
      "Some of our notable projects include:\n",
      "\n",
      "* Developing predictive models for demand forecasting and supply chain optimization\n",
      "* Creating data visualizations for business stakeholders to make informed decisions\n",
      "* Implementing machine learning algorithms for process automation and efficiency gains\n",
      "\n",
      "You can explore our portfolio at https://mfaiz01.github.io/MyPortfolio/ to get a glimpse of our capabilities.\n",
      "\n",
      "I'd love to schedule a call to discuss how AtliQ can support your organization in achieving its goals through data-driven decision-making. Please let me know if you're available for a quick call this week.\n",
      "\n",
      "Looking forward to hearing from you.\n",
      "\n",
      "Best regards,\n",
      "\n",
      "Mohan\n",
      "Business Development Executive\n",
      "AtliQ\n"
     ]
    }
   ],
   "source": [
    "prompt_email = PromptTemplate.from_template(\n",
    "        \"\"\"\n",
    "        ### JOB DESCRIPTION:\n",
    "        {job_description}\n",
    "        \n",
    "        ### INSTRUCTION:\n",
    "        You are Mohan, a business development executive at AtliQ. AtliQ is an AI & Software Consulting company dedicated to facilitating\n",
    "        the seamless integration of business processes through automated tools. \n",
    "        Over our experience, we have empowered numerous enterprises with tailored solutions, fostering scalability, \n",
    "        process optimization, cost reduction, and heightened overall efficiency. \n",
    "        Your job is to write a cold email to the client regarding the job mentioned above describing the capability of AtliQ \n",
    "        in fulfilling their needs.\n",
    "        Also add the most relevant ones from the following links to showcase Atliq's portfolio: {link_list}\n",
    "        Remember you are Mohan, BDE at AtliQ. \n",
    "        Do not provide a preamble.\n",
    "        ### EMAIL (NO PREAMBLE):\n",
    "        \n",
    "        \"\"\"\n",
    "        )\n",
    "\n",
    "chain_email = prompt_email | llm\n",
    "res = chain_email.invoke({\"job_description\": str(job), \"link_list\": links})\n",
    "print(res.content)"
   ]
  },
  {
   "cell_type": "code",
   "execution_count": 38,
   "id": "2abc1687-aba4-4b4f-86b8-d9765b402956",
   "metadata": {},
   "outputs": [
    {
     "data": {
      "text/plain": [
       "{'role': 'Senior Manager, Applied Analytics',\n",
       " 'experience': '6-8 years',\n",
       " 'skills': ['Data science',\n",
       "  'Business operation',\n",
       "  'Recap analysis',\n",
       "  'Analytics skills',\n",
       "  'Numeric acumen',\n",
       "  'Cross-functional collaboration',\n",
       "  'Problem-solving',\n",
       "  'Project management',\n",
       "  'Leadership'],\n",
       " 'description': 'Define & develop data-driven methodology and solutions to sort out business and data process, identify key business factors and requirements, and generate business insights & resolve problems. Collaborate with business stakeholders and cross-functional teams to build trust partnerships and support stakeholders to make critical business decisions. Track & identify potential opportunities & risks in multiple daily business scenarios, create sufficient validation points for strategic options through scientific approach. Form a new team squad to work together and grow together, and be responsible for team dynamics and talent career development.'}"
      ]
     },
     "execution_count": 38,
     "metadata": {},
     "output_type": "execute_result"
    }
   ],
   "source": [
    "job"
   ]
  },
  {
   "cell_type": "code",
   "execution_count": null,
   "id": "f51e89a3-bb6f-4abe-89fc-f8e509ba3372",
   "metadata": {},
   "outputs": [],
   "source": []
  }
 ],
 "metadata": {
  "kernelspec": {
   "display_name": "Python 3 (ipykernel)",
   "language": "python",
   "name": "python3"
  },
  "language_info": {
   "codemirror_mode": {
    "name": "ipython",
    "version": 3
   },
   "file_extension": ".py",
   "mimetype": "text/x-python",
   "name": "python",
   "nbconvert_exporter": "python",
   "pygments_lexer": "ipython3",
   "version": "3.12.4"
  }
 },
 "nbformat": 4,
 "nbformat_minor": 5
}
