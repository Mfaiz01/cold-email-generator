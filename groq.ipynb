{
 "cells": [
  {
   "cell_type": "code",
   "execution_count": 3,
   "id": "e3c8c09b-1969-4630-9233-7b918477b307",
   "metadata": {},
   "outputs": [
    {
     "name": "stdout",
     "output_type": "stream",
     "text": [
      "The term \"Middle East\" was first coined in the late 19th century by American naval strategist Alfred Thayer Mahan. At that time, Mahan was trying to describe the region between Europe and Asia, which was strategically located at the crossroads of the two continents.\n",
      "\n",
      "Mahan used the term \"Middle East\" in an article published in the National Review in 1902, where he described the region as the area between the Mediterranean Sea and the Indian Ocean, including the Persian Gulf and the Arabian Peninsula. He argued that this region was of great strategic importance, as it controlled the sea routes between Europe and Asia.\n",
      "\n",
      "The term \"Middle East\" was initially used to describe the region's geographical location, which was seen as a midpoint between the East (Asia) and the West (Europe). Over time, the term has come to be associated with a broader region that includes not only the countries of the Arabian Peninsula, but also those of the Levant (such as Lebanon, Syria, and Jordan), the Persian Gulf states (such as Iran, Iraq, and Kuwait), and parts of North Africa (such as Egypt and Libya).\n",
      "\n",
      "There are a few reasons why the term \"Middle East\" has stuck:\n",
      "\n",
      "1. **Geographical location**: The region is indeed located at the midpoint between Europe and Asia, making it a natural hub for trade and cultural exchange.\n",
      "2. **Strategic importance**: The region has long been a critical location for international trade, politics, and military strategy, with many empires and powers vying for control over the centuries.\n",
      "3. **Cultural significance**: The Middle East is home to many ancient civilizations, including the Egyptians, Babylonians, and Persians, which have had a profound impact on Western culture and history.\n",
      "\n",
      "However, it's worth noting that the term \"Middle East\" has been criticized for being Eurocentric, as it defines the region in relation to Europe rather than its own internal dynamics or cultural identity. Some scholars and experts prefer to use alternative terms, such as \"West Asia\" or \"Southwest Asia,\" which are more geographically accurate and less culturally loaded.\n"
     ]
    }
   ],
   "source": [
    "from langchain_groq import ChatGroq\n",
    "\n",
    "llm = ChatGroq(\n",
    "    temperature=0, \n",
    "    groq_api_key='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', \n",
    "    model_name=\"llama-3.1-70b-versatile\"\n",
    ")\n",
    "\n",
    "response = llm.invoke(\"why middle east is called middle east\")\n",
    "print(response.content)"
   ]
  },
  {
   "cell_type": "code",
   "execution_count": null,
   "id": "e297892b-38a1-42b2-bb62-37d2544309c1",
   "metadata": {},
   "outputs": [],
   "source": []
  }
 ],
 "metadata": {
  "kernelspec": {
   "display_name": "Python 3 (ipykernel)",
   "language": "python",
   "name": "python3"
  },
  "language_info": {
   "codemirror_mode": {
    "name": "ipython",
    "version": 3
   },
   "file_extension": ".py",
   "mimetype": "text/x-python",
   "name": "python",
   "nbconvert_exporter": "python",
   "pygments_lexer": "ipython3",
   "version": "3.12.4"
  }
 },
 "nbformat": 4,
 "nbformat_minor": 5
}
